{
 "cells": [
  {
   "cell_type": "markdown",
   "metadata": {},
   "source": [
    "# [Introduction to Python in Environmental Sciences](https://ueapy.github.io/pythoncourse2018/)\n",
    "*EnvEast & Cefas workshop*"
   ]
  },
  {
   "cell_type": "markdown",
   "metadata": {},
   "source": [
    "The full notebook listing is available on [Github](https://github.com/ueapy/pythoncourse2018)."
   ]
  },
  {
   "cell_type": "markdown",
   "metadata": {},
   "source": [
    "## Index\n",
    "\n",
    "1. [Introduction](./notebooks/00-Introduction.ipynb)\n",
    "2. [How to Run Python Code](./notebooks/01-How-to-Run-Python-Code.ipynb)\n",
    "3. [Jupyter Notebook](./notebooks/02-Jupyter-Notebook.ipynb)\n",
    "4. [Basic Python Syntax](./notebooks/03-Basic-Python-Syntax.ipynb)\n",
    "5. [Semantics Variables](./notebooks/04-Semantics-Variables.ipynb)\n",
    "6. [Semantics Operators](./notebooks/05-Semantics-Operators.ipynb)\n",
    "7. [Built in Scalar Types](./notebooks/06-Built-in-Scalar-Types.ipynb)\n",
    "8. [Built in Data Structures](./notebooks/07-Built-in-Data-Structures.ipynb)\n",
    "9. [Ex Try Python Basics](./notebooks/08-Ex-Try-Python-Basics.ipynb)\n",
    "10. [Control Flow Statements](./notebooks/09-Control-Flow-Statements.ipynb)\n",
    "11. [Defining Functions](./notebooks/10-Defining-Functions.ipynb)\n",
    "12. [Ex Build A Program](./notebooks/11-Ex-Build-A-Program.ipynb)\n",
    "13. [Modules and Packages](./notebooks/12-Modules-and-Packages.ipynb)\n",
    "14. [Ex Create module](./notebooks/13-Ex-Create-module.ipynb)\n",
    "15. [Numpy Intro](./notebooks/14-Numpy-Intro.ipynb)\n",
    "16. [Matplotlib](./notebooks/15-Matplotlib.ipynb)\n",
    "17. [Cartopy Intro](./notebooks/16-Cartopy-Intro.ipynb)\n",
    "18. [Pandas Intro](./notebooks/17-Pandas-Intro.ipynb)\n",
    "19. [NetCDF Intro](./notebooks/18-NetCDF-Intro.ipynb)\n",
    "20. [Final Project](./notebooks/19-Final-Project.ipynb)"
   ]
  }
 ],
 "metadata": {
  "anaconda-cloud": {},
  "kernelspec": {
   "display_name": "Python [conda env:course2018]",
   "language": "python",
   "name": "conda-env-course2018-py"
  },
  "language_info": {
   "codemirror_mode": {
    "name": "ipython",
    "version": 3
   },
   "file_extension": ".py",
   "mimetype": "text/x-python",
   "name": "python",
   "nbconvert_exporter": "python",
   "pygments_lexer": "ipython3",
   "version": "3.6.3"
  }
 },
 "nbformat": 4,
 "nbformat_minor": 1
}
