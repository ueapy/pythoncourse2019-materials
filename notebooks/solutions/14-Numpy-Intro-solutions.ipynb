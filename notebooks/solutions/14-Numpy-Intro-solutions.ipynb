{
 "cells": [
  {
   "cell_type": "markdown",
   "metadata": {},
   "source": [
    "# Solutions for the exercises in the notebook: Introduction to numpy"
   ]
  },
  {
   "cell_type": "markdown",
   "metadata": {},
   "source": [
    "# Exercise 1"
   ]
  },
  {
   "cell_type": "code",
   "execution_count": null,
   "metadata": {},
   "outputs": [],
   "source": [
    "# create array with seconds from 00:00 to 24:00, inclusive \n",
    "# (your code below)"
   ]
  },
  {
   "cell_type": "code",
   "execution_count": null,
   "metadata": {},
   "outputs": [],
   "source": [
    "#Solution\n",
    "import numpy as np\n",
    "np.linspace(0,24,86400)"
   ]
  },
  {
   "cell_type": "markdown",
   "metadata": {},
   "source": [
    "# Exercise 2"
   ]
  },
  {
   "cell_type": "raw",
   "metadata": {},
   "source": [
    "Create a 2D NumPy array from the following list and assign it to the variable \"a\":"
   ]
  },
  {
   "cell_type": "code",
   "execution_count": null,
   "metadata": {},
   "outputs": [],
   "source": [
    "# [[2, 3.2, 5.5, -6.4, -2.2, 2.4],\n",
    "#  [1, 22, 4, 0.1, 5.3, -9],\n",
    "#  [3, 1, 2.1, 21, 1.1, -2]]"
   ]
  },
  {
   "cell_type": "code",
   "execution_count": null,
   "metadata": {},
   "outputs": [],
   "source": [
    "# Solution\n",
    "a=np.array([[2, 3.2, 5.5, -6.4, -2.2, 2.4],\n",
    "  [1, 22, 4, 0.1, 5.3, -9],\n",
    "  [3, 1, 2.1, 21, 1.1, -2]])\n",
    "\n",
    "print(a)"
   ]
  },
  {
   "cell_type": "code",
   "execution_count": null,
   "metadata": {},
   "outputs": [],
   "source": [
    "a[:, 3]\n",
    "#This is the 4th column of a (recall that we start indexing with 0)"
   ]
  },
  {
   "cell_type": "code",
   "execution_count": null,
   "metadata": {},
   "outputs": [],
   "source": [
    "a[1:4, 0:4]\n",
    "#rows 1 to 4 (second to last) and columns first to fourth"
   ]
  },
  {
   "cell_type": "code",
   "execution_count": null,
   "metadata": {},
   "outputs": [],
   "source": [
    "a[1:, 2]\n",
    "#All raws starting from the second and the third column"
   ]
  },
  {
   "cell_type": "raw",
   "metadata": {},
   "source": [
    "How to extract the last column and the row before last"
   ]
  },
  {
   "cell_type": "code",
   "execution_count": null,
   "metadata": {},
   "outputs": [],
   "source": [
    "a[:,-1] #This is the last column"
   ]
  },
  {
   "cell_type": "code",
   "execution_count": null,
   "metadata": {},
   "outputs": [],
   "source": [
    "a[-2,:] #This is the row before last"
   ]
  },
  {
   "cell_type": "markdown",
   "metadata": {},
   "source": [
    "# Exercise 3"
   ]
  },
  {
   "cell_type": "markdown",
   "metadata": {},
   "source": [
    "Consider an 4x5 2D array of negative integers:"
   ]
  },
  {
   "cell_type": "code",
   "execution_count": null,
   "metadata": {},
   "outputs": [],
   "source": [
    "a = np.arange(-100, 0, 5).reshape(4, 5)\n",
    "a"
   ]
  },
  {
   "cell_type": "markdown",
   "metadata": {},
   "source": [
    "Suppose you want to return an array `result`, which has the squared value when an element in array `a` is greater than `-90` and less than `-40`, and is 1 otherwise."
   ]
  },
  {
   "cell_type": "markdown",
   "metadata": {},
   "source": [
    "* With a For loop it would look like this:"
   ]
  },
  {
   "cell_type": "code",
   "execution_count": null,
   "metadata": {},
   "outputs": [],
   "source": [
    "result = np.zeros(a.shape, dtype=a.dtype)\n",
    "\n",
    "for i in range(a.shape[0]):\n",
    "    for j in range(a.shape[1]):\n",
    "        if a[i, j] > -90 and a[i, j] < -40:\n",
    "            result[i, j] = a[i, j]**2\n",
    "        else:\n",
    "            result[i, j] = 1\n",
    "            \n",
    "result"
   ]
  },
  {
   "cell_type": "markdown",
   "metadata": {},
   "source": [
    "* Can you write a vectorised solution?\n",
    "\n",
    "Hint: use np.logical_and() and np.logical_not() to create a condition"
   ]
  },
  {
   "cell_type": "code",
   "execution_count": null,
   "metadata": {},
   "outputs": [],
   "source": [
    "# Your code here\n",
    "#Solution\n",
    "result=np.zeros(a.shape,dtype=a.dtype)\n",
    "result[np.logical_and(a>-90,a<-40)]=a[np.logical_and(a>-90,a<-40)]**2\n",
    "result[np.logical_not(np.logical_and(a>-90,a<-40))]=1\n",
    "print(result)"
   ]
  },
  {
   "cell_type": "markdown",
   "metadata": {},
   "source": [
    "A one-liner using np.where:"
   ]
  },
  {
   "cell_type": "code",
   "execution_count": null,
   "metadata": {},
   "outputs": [],
   "source": [
    "result = np.where(np.logical_and(a>-90,a<-40), a**2, 1)\n",
    "print(result)"
   ]
  },
  {
   "cell_type": "markdown",
   "metadata": {},
   "source": [
    "# Exercise 4"
   ]
  },
  {
   "cell_type": "markdown",
   "metadata": {},
   "source": [
    "* Create a \"data\" array of linearly spaced numbers in the interval (-10, 20) spaced by 0.5\n",
    "* Calculate the logarithm of the vector\n",
    "* Create a condition - a True/False (boolean) array, corresponding to the masked values\n",
    "* The data array should be masked when all of the following conditions apply\n",
    "    - larger or equal than 10\n",
    "    - larger than -1 and smaller than 1 \n",
    "* Mask the array depending on the condition\n",
    "* Hint: use `np.where` function"
   ]
  },
  {
   "cell_type": "code",
   "execution_count": null,
   "metadata": {},
   "outputs": [],
   "source": [
    "# Your code:\n",
    "# Hint: use `np.linspace` or `np.arange` functions\n",
    "arr = np.arange(-10,20.1,0.5)\n",
    "arr=np.log(arr)\n",
    "print(arr)"
   ]
  },
  {
   "cell_type": "code",
   "execution_count": null,
   "metadata": {},
   "outputs": [],
   "source": [
    "# Your code:\n",
    "condition = np.logical_or(np.logical_or(abs(arr)<1,arr>=10), np.logical_not(np.isfinite(arr)))\n",
    "print(condition)\n",
    "#Another possible condition giving the same result would be:\n",
    "condition=np.logical_or(np.logical_or(np.logical_and(arr>=-1,arr<=1),np.greater(arr,10)),np.logical_not(np.isfinite(arr)))\n",
    "print(condition)"
   ]
  },
  {
   "cell_type": "code",
   "execution_count": null,
   "metadata": {},
   "outputs": [],
   "source": [
    "# use np.ma.masked_where(condition,arr)\n",
    "masked_arr=np.ma.masked_where(condition,arr)\n",
    "print(masked_arr)"
   ]
  },
  {
   "cell_type": "markdown",
   "metadata": {},
   "source": [
    "# Exercise 5"
   ]
  },
  {
   "cell_type": "markdown",
   "metadata": {},
   "source": [
    "Generate a 2d array with 5x5. The first value is 0 and it grows left to right and top to bottom in increments on 0.1."
   ]
  },
  {
   "cell_type": "code",
   "execution_count": null,
   "metadata": {},
   "outputs": [],
   "source": [
    "e4 = np.arange(0.,2.5,.1)\n",
    "e4"
   ]
  },
  {
   "cell_type": "code",
   "execution_count": null,
   "metadata": {},
   "outputs": [],
   "source": [
    "#Another possibility\n",
    "e4=np.linspace(0.,2.4,25)\n",
    "e4"
   ]
  },
  {
   "cell_type": "code",
   "execution_count": null,
   "metadata": {},
   "outputs": [],
   "source": [
    "e4.reshape([5,5])"
   ]
  }
 ],
 "metadata": {
  "kernelspec": {
   "display_name": "Python 3",
   "language": "python",
   "name": "python3"
  },
  "language_info": {
   "codemirror_mode": {
    "name": "ipython",
    "version": 3
   },
   "file_extension": ".py",
   "mimetype": "text/x-python",
   "name": "python",
   "nbconvert_exporter": "python",
   "pygments_lexer": "ipython3",
   "version": "3.7.3"
  }
 },
 "nbformat": 4,
 "nbformat_minor": 2
}
