{
 "cells": [
  {
   "cell_type": "markdown",
   "metadata": {},
   "source": [
    "# Solution: create a module and reuse code from it (1 h)"
   ]
  },
  {
   "cell_type": "markdown",
   "metadata": {},
   "source": [
    "Extend the exercise from today by applying what you've just learned about packages and code reusability."
   ]
  },
  {
   "cell_type": "markdown",
   "metadata": {},
   "source": [
    "## Outline"
   ]
  },
  {
   "cell_type": "markdown",
   "metadata": {},
   "source": [
    "1. Put the function into a separate .py file\n",
    "2. Create yet another function that takes the name of the region as an input and returns SST values for the corresponding region\n",
    "3. Use `import` to access these functions from another file or a notebook\n",
    "4. Create the wind speed data\n",
    "5. Create a dictionary of data, whose keys are names of regions and values are lists of heat fluxes data\n",
    "6. Save the dictionary to text file (bonus: to a json file), both keys and values"
   ]
  },
  {
   "cell_type": "markdown",
   "metadata": {},
   "source": [
    "> ***Since this is the solution, we are skipping the step of creating a separate script***"
   ]
  },
  {
   "cell_type": "code",
   "execution_count": 1,
   "metadata": {
    "collapsed": true
   },
   "outputs": [],
   "source": [
    "def calc_heat_flux(u_atm, t_sea, rho=1.2, c_p=1004.5, c_h=1.2e-3, u_sea=1, t_atm=17):\n",
    "    q = rho * c_p * c_h * (u_atm - u_sea) * (t_sea - t_atm)\n",
    "    return q"
   ]
  },
  {
   "cell_type": "markdown",
   "metadata": {},
   "source": [
    "**2. Create yet another function that takes the name of the region as an input and returns SST values for the corresponding region**"
   ]
  },
  {
   "cell_type": "markdown",
   "metadata": {},
   "source": [
    "* This function can look something like the one below\n",
    "* Feel free to modify or extend it\n",
    "* You can replace `region_name` by `experiment_name` or whatever you prefer\n",
    "* For convenience, make sure the length of the returned list is the same"
   ]
  },
  {
   "cell_type": "code",
   "execution_count": 2,
   "metadata": {
    "collapsed": true
   },
   "outputs": [],
   "source": [
    "def create_sst(region_name):\n",
    "    \"\"\"\n",
    "    Create fake SST data (degC) for a given region\n",
    "    \n",
    "    Inputs\n",
    "    ------\n",
    "    region_name: ...continue the docstring...\n",
    "    \n",
    "    n: integer, optional. Length of the returned data list      \n",
    "    \n",
    "    Returns\n",
    "    -------\n",
    "    ...continue the docstring...\n",
    "    \"\"\"\n",
    "    \n",
    "    if region_name == 'NS':\n",
    "        # North Sea\n",
    "        sst = list(range(5, 15, 1))\n",
    "    elif region_name == 'WS':\n",
    "        # White Sea\n",
    "        sst = list(range(0, 10, 1))\n",
    "    elif region_name == 'BS':\n",
    "        # Black Sea\n",
    "        sst = list(range(15, 25, 1))\n",
    "    else:\n",
    "        raise ValueError('Input value of {} is not recognised'.format(region_name))\n",
    "        \n",
    "    return sst"
   ]
  },
  {
   "cell_type": "markdown",
   "metadata": {
    "collapsed": true
   },
   "source": [
    "**4. Create the wind speed data**"
   ]
  },
  {
   "cell_type": "code",
   "execution_count": 3,
   "metadata": {
    "collapsed": true
   },
   "outputs": [],
   "source": [
    "wind_speed = list(range(0,20,2))"
   ]
  },
  {
   "cell_type": "markdown",
   "metadata": {},
   "source": [
    "**5. Create a dictionary of data, whose keys are names of regions and values are lists of heat fluxes data**"
   ]
  },
  {
   "cell_type": "markdown",
   "metadata": {},
   "source": [
    "* Create a list of names of the regions/experiments\n",
    "* Create an empty dictionary, named `hf_dict` or whatever sounds better to you\n",
    "* Loop over the names, call the `create_sst()` function and assign it to a variable, e.g. `fake_sst`\n",
    "* Still inside the name-loop, write **another loop** to iterate over SST and wind values, just as you did in the previous exercise, and calculate the **heat flux**.\n",
    "* Assign the result to the corresponding key of `hf_dict`"
   ]
  },
  {
   "cell_type": "code",
   "execution_count": 4,
   "metadata": {},
   "outputs": [],
   "source": [
    "regions = ['WS', 'BS']\n",
    "hf_dict = dict()\n",
    "for reg in regions:\n",
    "    fake_sst = create_sst(reg)\n",
    "    heat_flux = []\n",
    "    for u, t in zip(wind_speed, fake_sst):\n",
    "        q = calc_heat_flux(u, t)\n",
    "        heat_flux.append(q)\n",
    "    hf_dict[reg] = heat_flux"
   ]
  },
  {
   "cell_type": "markdown",
   "metadata": {},
   "source": [
    "Print the result to test yourself."
   ]
  },
  {
   "cell_type": "code",
   "execution_count": 5,
   "metadata": {},
   "outputs": [
    {
     "data": {
      "text/plain": [
       "{'BS': [2.8929599999999995,\n",
       "  -1.4464799999999998,\n",
       "  0.0,\n",
       "  7.232399999999998,\n",
       "  20.250719999999998,\n",
       "  39.054959999999994,\n",
       "  63.64511999999999,\n",
       "  94.02119999999998,\n",
       "  130.18319999999997,\n",
       "  172.13111999999998],\n",
       " 'WS': [24.590159999999997,\n",
       "  -23.143679999999996,\n",
       "  -65.0916,\n",
       "  -101.25359999999998,\n",
       "  -131.62967999999998,\n",
       "  -156.21983999999998,\n",
       "  -175.02407999999997,\n",
       "  -188.04239999999996,\n",
       "  -195.27479999999997,\n",
       "  -196.72127999999998]}"
      ]
     },
     "execution_count": 5,
     "metadata": {},
     "output_type": "execute_result"
    }
   ],
   "source": [
    "hf_dict"
   ]
  },
  {
   "cell_type": "markdown",
   "metadata": {},
   "source": [
    "**6. Save the dictionary to text file, both keys and values**"
   ]
  },
  {
   "cell_type": "markdown",
   "metadata": {},
   "source": [
    "* You can copy the code for writing data to a text file from the previous exercise\n",
    "* Modify it so that the output file would include `hf_dict`'s keys as row (column) names"
   ]
  },
  {
   "cell_type": "code",
   "execution_count": 6,
   "metadata": {},
   "outputs": [],
   "source": [
    "with open('heat_flux_var_sst_bycol.txt', 'w') as f:\n",
    "    column_names = sorted(hf_dict.keys())\n",
    "    f.write(','.join(column_names)+'\\n')\n",
    "    for tup in zip(*[hf_dict[i] for i in column_names]):\n",
    "        f.write(','.join([str(i) for i in tup])+'\\n')"
   ]
  },
  {
   "cell_type": "code",
   "execution_count": 7,
   "metadata": {},
   "outputs": [],
   "source": [
    "with open('heat_flux_var_sst_byrow.txt', 'w') as f:\n",
    "    for k, v in hf_dict.items():\n",
    "        line = k + ','\n",
    "        for i in v:\n",
    "            line += str(i) + ','\n",
    "        line = line[:-1]+ '\\n'\n",
    "        f.write(line)"
   ]
  },
  {
   "cell_type": "code",
   "execution_count": 8,
   "metadata": {},
   "outputs": [
    {
     "name": "stdout",
     "output_type": "stream",
     "text": [
      "BS,2.8929599999999995,-1.4464799999999998,0.0,7.232399999999998,20.2507199999999\r\n",
      "98,39.054959999999994,63.64511999999999,94.02119999999998,130.18319999999997,172\r\n",
      ".13111999999998\r\n",
      "WS,24.590159999999997,-23.143679999999996,-65.0916,-101.25359999999998,-131.6296\r\n",
      "7999999998,-156.21983999999998,-175.02407999999997,-188.04239999999996,-195.2747\r\n",
      "9999999997,-196.72127999999998\r\n"
     ]
    }
   ],
   "source": [
    "!more {f.name}"
   ]
  },
  {
   "cell_type": "markdown",
   "metadata": {},
   "source": [
    "**Bonus**"
   ]
  },
  {
   "cell_type": "code",
   "execution_count": 9,
   "metadata": {
    "collapsed": true
   },
   "outputs": [],
   "source": [
    "import json"
   ]
  },
  {
   "cell_type": "markdown",
   "metadata": {},
   "source": [
    "Explore what json.dump() does."
   ]
  }
 ],
 "metadata": {
  "anaconda-cloud": {},
  "kernelspec": {
   "display_name": "Python [conda env:course2018]",
   "language": "python",
   "name": "conda-env-course2018-py"
  },
  "language_info": {
   "codemirror_mode": {
    "name": "ipython",
    "version": 3
   },
   "file_extension": ".py",
   "mimetype": "text/x-python",
   "name": "python",
   "nbconvert_exporter": "python",
   "pygments_lexer": "ipython3",
   "version": "3.6.3"
  }
 },
 "nbformat": 4,
 "nbformat_minor": 1
}
