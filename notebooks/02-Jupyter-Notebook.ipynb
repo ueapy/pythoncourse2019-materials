{
 "cells": [
  {
   "cell_type": "markdown",
   "metadata": {},
   "source": [
    "# Jupyter Notebook"
   ]
  },
  {
   "cell_type": "markdown",
   "metadata": {},
   "source": [
    "* The Jupyter Notebook is an interactive environment for writing and running code."
   ]
  },
  {
   "cell_type": "markdown",
   "metadata": {},
   "source": [
    "* The notebook is capable of running code in a wide range of languages."
   ]
  },
  {
   "cell_type": "markdown",
   "metadata": {},
   "source": [
    "* However, each notebook is associated with a single kernel. This notebook is associated with the IPython kernel, therefore it runs Python code."
   ]
  },
  {
   "cell_type": "markdown",
   "metadata": {},
   "source": [
    "## Showcase: 2017 Nobel Prize in Physics"
   ]
  },
  {
   "cell_type": "markdown",
   "metadata": {},
   "source": [
    "[...] to three leaders of the decades-long project \"for decisive contributions to the LIGO detector and the observation of gravitational waves.\""
   ]
  },
  {
   "cell_type": "markdown",
   "metadata": {},
   "source": [
    "To communicate to the broader community, the LIGO/VIRGO Collaboration has created tutorials with Jupyter Notebooks that describe how to use LIGO/VIRGO data and reproduce analyses related to their academic publications. Most notably, they published a tutorial for working with Binary Black Hole Data."
   ]
  },
  {
   "cell_type": "markdown",
   "metadata": {},
   "source": [
    "https://losc.ligo.org/s/events/GW150914/GW150914_tutorial.html"
   ]
  },
  {
   "cell_type": "markdown",
   "metadata": {
    "slideshow": {
     "slide_type": "-"
    }
   },
   "source": [
    "## Notebook Cells\n",
    "\n",
    "- An Notebook is a series of \"cells\".\n",
    "- The active cell has an outline around it.\n",
    "- Navigate to different cells with the arrow keys.\n",
    "- A cell can be either be code, markdown, or \"raw\".\n",
    "    - Code\n",
    "        - Python\n",
    "        - R\n",
    "        - Julia\n",
    "        - [Many Others](https://github.com/ipython/ipython/wiki/IPython-kernels-for-other-languages)\n",
    "- Create cells from the Notebook menu or using keyboard shortcuts.\n",
    "    - `h`: Bring up keyboard shortcuts screen."
   ]
  },
  {
   "cell_type": "markdown",
   "metadata": {
    "slideshow": {
     "slide_type": "slide"
    }
   },
   "source": [
    "## Modes\n",
    "\n",
    "|             |Edit mode|Command mode|\n",
    "|-|-|\n",
    "|How to enter | `Enter`,<br> or double-click | `Esc` or `Ctrl-m` | \n",
    "|Cell border  |Green    |Blue        |\n",
    "|Action       | Type code or text | Notebook-level actions |"
   ]
  },
  {
   "cell_type": "markdown",
   "metadata": {
    "slideshow": {
     "slide_type": "slide"
    }
   },
   "source": [
    "## Some shortcuts\n",
    "\n",
    "* `Ctrl`-`Enter`: Run Cell\n",
    "* `Shift`-`Enter`: Run cell, select cell below.\n",
    "* `Alt`-`Enter`: Run Cell, insert below.\n",
    "* `a` : Insert cell (above)\n",
    "* `b` : Insert cell (below)\n",
    "* `dd` : Delete cell (the same as VIM)\n",
    "* `Ctrl`-`s`: Save Notebook\n",
    "* `i`: Interrupt kernel (press twice).\n",
    "* `0`: Restart kernel (press twice)."
   ]
  },
  {
   "cell_type": "markdown",
   "metadata": {},
   "source": [
    "## Features"
   ]
  },
  {
   "cell_type": "markdown",
   "metadata": {},
   "source": [
    "### 1. Nice Errors"
   ]
  },
  {
   "cell_type": "code",
   "execution_count": null,
   "metadata": {},
   "outputs": [],
   "source": [
    "#1 + foos"
   ]
  },
  {
   "cell_type": "markdown",
   "metadata": {},
   "source": [
    "### 2. Inline Documentation"
   ]
  },
  {
   "cell_type": "code",
   "execution_count": null,
   "metadata": {},
   "outputs": [],
   "source": [
    "open?"
   ]
  },
  {
   "cell_type": "markdown",
   "metadata": {},
   "source": [
    "### 3. Tab Completion (predictive and helpful!)\n",
    "\n",
    "Type `o` then `tab` and you should see a drop-down menu of choices."
   ]
  },
  {
   "cell_type": "code",
   "execution_count": null,
   "metadata": {},
   "outputs": [],
   "source": [
    "#o     # Always press the tab! Tab is the same as Unix. It works a little like predictive text messaging if you are unfamilar with it. "
   ]
  },
  {
   "cell_type": "markdown",
   "metadata": {},
   "source": [
    "### 4. Run Shell Commands with \"!\""
   ]
  },
  {
   "cell_type": "code",
   "execution_count": null,
   "metadata": {},
   "outputs": [],
   "source": [
    "!ls  # ls is a Unix command for list. Here we are listing all files within out current Jupyternotebook directory. "
   ]
  },
  {
   "cell_type": "markdown",
   "metadata": {},
   "source": [
    "### 5. Remote Operations\n",
    "\n",
    "* You can run code both locally and remotely.\n",
    "* For example, you can connect to HPC via SSH protocol and run your code there."
   ]
  },
  {
   "cell_type": "markdown",
   "metadata": {},
   "source": [
    "### 6. Embed Images or Videos"
   ]
  },
  {
   "cell_type": "code",
   "execution_count": null,
   "metadata": {},
   "outputs": [],
   "source": [
    "from IPython.core.display import Image \n",
    "Image(url='http://python.org/images/python-logo.gif')"
   ]
  },
  {
   "cell_type": "code",
   "execution_count": null,
   "metadata": {},
   "outputs": [],
   "source": [
    "Image(url='https://jupyter.org/assets/main-logo.svg',width=200)"
   ]
  },
  {
   "cell_type": "code",
   "execution_count": null,
   "metadata": {},
   "outputs": [],
   "source": [
    "from IPython.lib.display import YouTubeVideo\n",
    "YouTubeVideo(\"7qym7b-qvkE\")"
   ]
  },
  {
   "cell_type": "markdown",
   "metadata": {},
   "source": [
    "### 7. Load Remote Code - This is Very Cool and helpful! \n",
    "\n",
    "You can pull up remote code using `loadpy`\n",
    "\n",
    "```python\n",
    "loadpy http://matplotlib.org/mpl_examples/mplot3d/2dcollections3d_demo.py\n",
    "```"
   ]
  },
  {
   "cell_type": "code",
   "execution_count": null,
   "metadata": {
    "collapsed": true
   },
   "outputs": [],
   "source": [
    "#loadpy http://matplotlib.org/mpl_examples/mplot3d/2dcollections3d_demo.py"
   ]
  },
  {
   "cell_type": "markdown",
   "metadata": {},
   "source": [
    "You can also notice that probably the best feature of the notebook is inline figures."
   ]
  },
  {
   "cell_type": "markdown",
   "metadata": {},
   "source": [
    "## Sharing Notebooks\n",
    "\n",
    "* The file itself is simply a `JSON` file which can be shared the same as any other file.\n"
   ]
  },
  {
   "cell_type": "markdown",
   "metadata": {},
   "source": [
    "* It is possible to save a notebook in various formats via the `File->Download As` menu.\n",
    "\n",
    "    - HTML\n",
    "    - Markdown\n",
    "    - Python script\n",
    "    - PDF\n",
    "    - etc.\n"
   ]
  },
  {
   "cell_type": "markdown",
   "metadata": {},
   "source": [
    "* [NBviewer](http://nbviewer.jupyter.org/) - view (but not execute) Jupyter Notebooks\n"
   ]
  },
  {
   "cell_type": "markdown",
   "metadata": {},
   "source": [
    "* Cloud services:\n",
    "    - [Wakari](http://wakari.io)\n",
    "    - [Binder](http://www.mybinder.org/)\n",
    "    - [SageMath](https://cloud.sagemath.com/)"
   ]
  },
  {
   "cell_type": "markdown",
   "metadata": {},
   "source": [
    "## References\n",
    "* This Notebook was build upon materials from the Unidata Python Workshop https://github.com/Unidata/unidata-python-workshop"
   ]
  }
 ],
 "metadata": {
  "anaconda-cloud": {},
  "kernelspec": {
   "display_name": "Python [default]",
   "language": "python",
   "name": "python3"
  },
  "language_info": {
   "codemirror_mode": {
    "name": "ipython",
    "version": 3
   },
   "file_extension": ".py",
   "mimetype": "text/x-python",
   "name": "python",
   "nbconvert_exporter": "python",
   "pygments_lexer": "ipython3",
   "version": "3.6.4"
  }
 },
 "nbformat": 4,
 "nbformat_minor": 1
}
