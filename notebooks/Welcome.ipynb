{
 "cells": [
  {
   "cell_type": "markdown",
   "metadata": {},
   "source": [
    "# Welcome to the 2019   Python Course! \n",
    "\n",
    "## EnvEast and Cefas\n",
    "\n",
    "[Course website](https://ueapy.github.io/pythoncourse2019/programme)\n",
    "\n",
    "[Course material on github](https://github.com/ueapy/pythoncourse2019-materials)"
   ]
  },
  {
   "cell_type": "markdown",
   "metadata": {},
   "source": [
    "## EnvEast\n",
    "\n",
    "<http://www.enveast.ac.uk/>\n",
    "\n",
    "## Cefas\n",
    "\n",
    "<https://www.cefas.co.uk/>\n",
    "\n",
    "\n",
    "\n",
    "                Will Hodder - UEA-ENV\n",
    "            Dr. Tiago Silva - Cefas\n",
    "        Dr. Luz Garcia - Cefas\n",
    "    Callum Rollo - UEA-ENV\n",
    "    "
   ]
  },
  {
   "cell_type": "markdown",
   "metadata": {},
   "source": [
    "### WiFi\n",
    "\n",
    "* eduroam (for uea accounts)\n",
    "\n",
    "* The_Cloud (sign up for a free Sky account)\n",
    "    "
   ]
  },
  {
   "cell_type": "markdown",
   "metadata": {},
   "source": [
    "### Lunch at 12h45! (not 12h15 as in the programme)\n",
    "\n",
    "* Cheese sandwiches          14\n",
    "* Cheese(gluten free)        2\n",
    "* Houmous                    5\n",
    "* Salad (g.f. vegan)         1\n",
    "* Tuna                       11\n",
    "* Pork                       11"
   ]
  }
 ],
 "metadata": {
  "kernelspec": {
   "display_name": "Python 3",
   "language": "python",
   "name": "python3"
  },
  "language_info": {
   "codemirror_mode": {
    "name": "ipython",
    "version": 3
   },
   "file_extension": ".py",
   "mimetype": "text/x-python",
   "name": "python",
   "nbconvert_exporter": "python",
   "pygments_lexer": "ipython3",
   "version": "3.7.3"
  }
 },
 "nbformat": 4,
 "nbformat_minor": 2
}
